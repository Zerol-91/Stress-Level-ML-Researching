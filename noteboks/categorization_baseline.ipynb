{
  "cells": [
    {
      "cell_type": "markdown",
      "metadata": {
        "id": "view-in-github",
        "colab_type": "text"
      },
      "source": [
        "<a href=\"https://colab.research.google.com/github/Zerol-91/Stress-Level-ML-Researching/blob/main/noteboks/categorization_baseline.ipynb\" target=\"_parent\"><img src=\"https://colab.research.google.com/assets/colab-badge.svg\" alt=\"Open In Colab\"/></a>"
      ]
    },
    {
      "cell_type": "markdown",
      "source": [
        "# What is this notebook about\n",
        "This notebook stands for experiment with prediction stress levels as classes of categorizational model"
      ],
      "metadata": {
        "id": "kLuP9GlLLhWm"
      },
      "id": "kLuP9GlLLhWm"
    },
    {
      "cell_type": "markdown",
      "source": [
        "## Get dataset"
      ],
      "metadata": {
        "id": "HaeUbUuFOvqb"
      },
      "id": "HaeUbUuFOvqb"
    },
    {
      "cell_type": "code",
      "source": [
        "from google.colab import drive\n",
        "drive.mount('/content/drive')"
      ],
      "metadata": {
        "colab": {
          "base_uri": "https://localhost:8080/"
        },
        "id": "0IbxVtCsLp8R",
        "outputId": "3831bd20-dab1-46a3-b5f8-148ce79b2f41"
      },
      "id": "0IbxVtCsLp8R",
      "execution_count": 48,
      "outputs": [
        {
          "output_type": "stream",
          "name": "stdout",
          "text": [
            "Drive already mounted at /content/drive; to attempt to forcibly remount, call drive.mount(\"/content/drive\", force_remount=True).\n"
          ]
        }
      ]
    },
    {
      "cell_type": "code",
      "source": [
        "import pandas as pd\n",
        "import matplotlib.pyplot as plt\n",
        "import seaborn as sns"
      ],
      "metadata": {
        "id": "fnOTNolMLqrH"
      },
      "id": "fnOTNolMLqrH",
      "execution_count": 49,
      "outputs": []
    },
    {
      "cell_type": "code",
      "source": [
        "dataset = pd.read_csv(\"/content/drive/MyDrive/datasets/Anxiety_Level_Test_2.csv\")"
      ],
      "metadata": {
        "id": "HBbcxTfZMLYu"
      },
      "id": "HBbcxTfZMLYu",
      "execution_count": 50,
      "outputs": []
    },
    {
      "cell_type": "code",
      "source": [
        "new_column_names = {\n",
        "    'Отметка времени': 'Timestamp',\n",
        "    'По Вашему *субъективному мнению*, как Вы оцените свой уровень тревожности от 1 до 10 баллов': 'Subjective_Anxiety',\n",
        "    'За последние 2 недели, как часто Вы были нервны, тревожны или «на взводе»?': 'Nervous_Freq',\n",
        "    'За последние 2 недели, как часто Вы не могли остановить или контролировать беспокойство?': 'Worry_Control_Freq',\n",
        "    'За последние 2 недели, как часто Вы чрезмерно беспокоились по разным поводам?': 'Excessive_Worry_Freq',\n",
        "    'За последние 2 недели, как часто Вам было трудно расслабиться?': 'Relax_Difficulty_Freq',\n",
        "    'За последние 2 недели, как часто Вы были настолько беспокойны, что Вам было трудно сидеть на месте?': 'Restlessness_Freq',\n",
        "    'За последние 2 недели, как часто Вы были раздражительны?': 'Irritability_Freq',\n",
        "    'За последние 2 недели, как часто Вы испытывали страх, будто может случиться что-то плохое?': 'Fear_Bad_Happening_Freq',\n",
        "    'Сколько часов сна Вы в среднем получаете за ночь (последняя неделя)?': 'Sleep_Hours',\n",
        "    'Сколько раз в неделю Вы занимаетесь спортом (30 минут и более)?': 'Sport_Freq',\n",
        "    'Сколько минут в среднем в день Вы уделяете физическим нагрузкам (любым)?': 'Physical_Activity_Minutes',\n",
        "    'Принимаете ли Вы сейчас лекарства от тревоги/депрессии или другое психотропное лечение?': 'Taking_Medication',\n",
        "    'Как часто Вы выходите на прогулку/на свежий воздух?': 'Outdoor_Walks_Freq',\n",
        "    'Насколько Вы удовлетворены уровнем вашего общения с друзьями, коллегами и знакомыми?': 'Social_Satisfaction',\n",
        "    'Насколько Вы удовлетворены собственной текущей рабочей/учебной средой (коллеги, учебный коллектив, условия)?': 'Work_Study_Satisfaction',\n",
        "    'Какой режим Вам больше подходит?': 'Circadian_Rhythm',\n",
        "    'Насколько Вы чувствуете поддержку со стороны близких (друзей/семьи)?': 'Family_Friends_Support',\n",
        "    'Сколько часов в среднем в день вы проводите в телефоне (не считая работы/учёбы)?': 'Phone_Hours',\n",
        "    'Произошло ли в вашей жизни за последний год значимое негативное событие (потеря работы, развод, смерть близкого, серьёзная болезнь и т.п.)?': 'Negative_Event_Last_Year',\n",
        "    'Ваш пол': 'Gender',\n",
        "    'Ваш возраст (лет)': 'Age',\n",
        "    'Физическая активность/Занятие спортом (в среднем часов за неделю)': 'Sport_Hours_Weekly',\n",
        "    'Как часто Вы употребляете алкоголь?': 'Alcohol_Freq',\n",
        "    'Как Вы опишете свой статус курения?': 'Smoking_Status',\n",
        "    'Качество вашего питания (самооценка)': 'Diet_Quality',\n",
        "    'Сколько раз Вы посещали психолога/психотерапевта за последний месяц?': 'Therapist_Visits_Last_Month'\n",
        "}\n",
        "\n",
        "dataset.rename(columns=new_column_names, inplace=True)\n",
        "dataset.columns"
      ],
      "metadata": {
        "colab": {
          "base_uri": "https://localhost:8080/"
        },
        "id": "Ov6xFDUyMXhd",
        "outputId": "e8f52ca4-8952-464b-fc2b-5d26526f387e"
      },
      "id": "Ov6xFDUyMXhd",
      "execution_count": 51,
      "outputs": [
        {
          "output_type": "execute_result",
          "data": {
            "text/plain": [
              "Index(['Timestamp', 'Subjective_Anxiety', 'Nervous_Freq', 'Worry_Control_Freq',\n",
              "       'Excessive_Worry_Freq', 'Relax_Difficulty_Freq', 'Restlessness_Freq',\n",
              "       'Irritability_Freq', 'Fear_Bad_Happening_Freq', 'Sleep_Hours',\n",
              "       'Sport_Hours_Weekly', 'Alcohol_Freq', 'Smoking_Status', 'Diet_Quality',\n",
              "       'Therapist_Visits_Last_Month', 'Taking_Medication',\n",
              "       'Outdoor_Walks_Freq', 'Social_Satisfaction', 'Work_Study_Satisfaction',\n",
              "       'Circadian_Rhythm', 'Family_Friends_Support', 'Phone_Hours',\n",
              "       'Negative_Event_Last_Year', 'Gender', 'Age'],\n",
              "      dtype='object')"
            ]
          },
          "metadata": {},
          "execution_count": 51
        }
      ]
    },
    {
      "cell_type": "markdown",
      "source": [
        "## Feature encoding\n",
        "\n",
        "As we used public google forms to get dataset we need to encode results\n",
        "\n",
        "> На будущее: создай отдельный ноутбук с этим кодом. Назови его пропроцессинг и залей. Нечего каждый ноуьбук захламлять\n",
        "\n"
      ],
      "metadata": {
        "id": "c1icQ26sOORJ"
      },
      "id": "c1icQ26sOORJ"
    },
    {
      "cell_type": "code",
      "source": [
        "def encode_frequency_columns_GAD7(df, columns_to_encode):\n",
        "    \"\"\"\n",
        "    Encodes frequency columns (GAD-7) with Russian text values to numerical values.\n",
        "\n",
        "    Args:\n",
        "        df: pandas DataFrame.\n",
        "        columns_to_encode: List of column names to encode.\n",
        "\n",
        "    Returns:\n",
        "        pandas DataFrame with encoded columns.\n",
        "    \"\"\"\n",
        "    encoding_map = {'Ни разу': 0, 'Несколько дней': 1, 'Более половины дней': 2, 'Почти каждый день': 3}\n",
        "    for col in columns_to_encode:\n",
        "        if col in df.columns:\n",
        "            df[col] = df[col].replace(encoding_map)\n",
        "        else:\n",
        "            print(f\"Warning: Column '{col}' not found in DataFrame.\")\n",
        "    return df\n",
        "\n",
        "# List of frequency columns to encode\n",
        "frequency_columns = [\n",
        "    'Nervous_Freq',\n",
        "    'Worry_Control_Freq',\n",
        "    'Excessive_Worry_Freq',\n",
        "    'Relax_Difficulty_Freq',\n",
        "    'Restlessness_Freq',\n",
        "    'Irritability_Freq',\n",
        "    'Fear_Bad_Happening_Freq'\n",
        "]\n",
        "\n",
        "# Apply the encoding function\n",
        "dataset = encode_frequency_columns_GAD7(dataset, frequency_columns)\n",
        "\n",
        "dataset.head(2)"
      ],
      "metadata": {
        "colab": {
          "base_uri": "https://localhost:8080/",
          "height": 283
        },
        "id": "4AJD1eSEPU3h",
        "outputId": "d59c7f63-a460-434f-dc50-01d66f339292"
      },
      "id": "4AJD1eSEPU3h",
      "execution_count": 52,
      "outputs": [
        {
          "output_type": "stream",
          "name": "stderr",
          "text": [
            "/tmp/ipython-input-3817813000.py:15: FutureWarning: Downcasting behavior in `replace` is deprecated and will be removed in a future version. To retain the old behavior, explicitly call `result.infer_objects(copy=False)`. To opt-in to the future behavior, set `pd.set_option('future.no_silent_downcasting', True)`\n",
            "  df[col] = df[col].replace(encoding_map)\n"
          ]
        },
        {
          "output_type": "execute_result",
          "data": {
            "text/plain": [
              "             Timestamp  Subjective_Anxiety  Nervous_Freq  Worry_Control_Freq  \\\n",
              "0  06.10.2025 18:07:59                   2             0                   1   \n",
              "1  06.10.2025 18:11:32                   7             2                   1   \n",
              "\n",
              "   Excessive_Worry_Freq  Relax_Difficulty_Freq  Restlessness_Freq  \\\n",
              "0                     0                      3                  1   \n",
              "1                     1                      3                  2   \n",
              "\n",
              "   Irritability_Freq  Fear_Bad_Happening_Freq  Sleep_Hours  ...  \\\n",
              "0                  1                        0          7.5  ...   \n",
              "1                  2                        0          4.0  ...   \n",
              "\n",
              "   Taking_Medication      Outdoor_Walks_Freq        Social_Satisfaction  \\\n",
              "0                Нет            Раз в неделю  Полностью удовлетворён(а)   \n",
              "1                Нет  Не более 3 раз в месяц  Полностью удовлетворён(а)   \n",
              "\n",
              "     Work_Study_Satisfaction  \\\n",
              "0  Полностью удовлетворён(а)   \n",
              "1     Скорее удовлетворён(а)   \n",
              "\n",
              "                                    Circadian_Rhythm Family_Friends_Support  \\\n",
              "0  Жаворонок — мне удобнее вставать рано и ложить...                 Всегда   \n",
              "1  Сова — мне удобнее ложиться поздно и вставать ...                 Всегда   \n",
              "\n",
              "  Phone_Hours Negative_Event_Last_Year   Gender   Age  \n",
              "0         4.0                      Нет  Мужской  18.0  \n",
              "1         4.0                      Нет  Мужской  19.0  \n",
              "\n",
              "[2 rows x 25 columns]"
            ],
            "text/html": [
              "\n",
              "  <div id=\"df-3d6ea32f-ca16-472f-a217-9d29bb95cf0f\" class=\"colab-df-container\">\n",
              "    <div>\n",
              "<style scoped>\n",
              "    .dataframe tbody tr th:only-of-type {\n",
              "        vertical-align: middle;\n",
              "    }\n",
              "\n",
              "    .dataframe tbody tr th {\n",
              "        vertical-align: top;\n",
              "    }\n",
              "\n",
              "    .dataframe thead th {\n",
              "        text-align: right;\n",
              "    }\n",
              "</style>\n",
              "<table border=\"1\" class=\"dataframe\">\n",
              "  <thead>\n",
              "    <tr style=\"text-align: right;\">\n",
              "      <th></th>\n",
              "      <th>Timestamp</th>\n",
              "      <th>Subjective_Anxiety</th>\n",
              "      <th>Nervous_Freq</th>\n",
              "      <th>Worry_Control_Freq</th>\n",
              "      <th>Excessive_Worry_Freq</th>\n",
              "      <th>Relax_Difficulty_Freq</th>\n",
              "      <th>Restlessness_Freq</th>\n",
              "      <th>Irritability_Freq</th>\n",
              "      <th>Fear_Bad_Happening_Freq</th>\n",
              "      <th>Sleep_Hours</th>\n",
              "      <th>...</th>\n",
              "      <th>Taking_Medication</th>\n",
              "      <th>Outdoor_Walks_Freq</th>\n",
              "      <th>Social_Satisfaction</th>\n",
              "      <th>Work_Study_Satisfaction</th>\n",
              "      <th>Circadian_Rhythm</th>\n",
              "      <th>Family_Friends_Support</th>\n",
              "      <th>Phone_Hours</th>\n",
              "      <th>Negative_Event_Last_Year</th>\n",
              "      <th>Gender</th>\n",
              "      <th>Age</th>\n",
              "    </tr>\n",
              "  </thead>\n",
              "  <tbody>\n",
              "    <tr>\n",
              "      <th>0</th>\n",
              "      <td>06.10.2025 18:07:59</td>\n",
              "      <td>2</td>\n",
              "      <td>0</td>\n",
              "      <td>1</td>\n",
              "      <td>0</td>\n",
              "      <td>3</td>\n",
              "      <td>1</td>\n",
              "      <td>1</td>\n",
              "      <td>0</td>\n",
              "      <td>7.5</td>\n",
              "      <td>...</td>\n",
              "      <td>Нет</td>\n",
              "      <td>Раз в неделю</td>\n",
              "      <td>Полностью удовлетворён(а)</td>\n",
              "      <td>Полностью удовлетворён(а)</td>\n",
              "      <td>Жаворонок — мне удобнее вставать рано и ложить...</td>\n",
              "      <td>Всегда</td>\n",
              "      <td>4.0</td>\n",
              "      <td>Нет</td>\n",
              "      <td>Мужской</td>\n",
              "      <td>18.0</td>\n",
              "    </tr>\n",
              "    <tr>\n",
              "      <th>1</th>\n",
              "      <td>06.10.2025 18:11:32</td>\n",
              "      <td>7</td>\n",
              "      <td>2</td>\n",
              "      <td>1</td>\n",
              "      <td>1</td>\n",
              "      <td>3</td>\n",
              "      <td>2</td>\n",
              "      <td>2</td>\n",
              "      <td>0</td>\n",
              "      <td>4.0</td>\n",
              "      <td>...</td>\n",
              "      <td>Нет</td>\n",
              "      <td>Не более 3 раз в месяц</td>\n",
              "      <td>Полностью удовлетворён(а)</td>\n",
              "      <td>Скорее удовлетворён(а)</td>\n",
              "      <td>Сова — мне удобнее ложиться поздно и вставать ...</td>\n",
              "      <td>Всегда</td>\n",
              "      <td>4.0</td>\n",
              "      <td>Нет</td>\n",
              "      <td>Мужской</td>\n",
              "      <td>19.0</td>\n",
              "    </tr>\n",
              "  </tbody>\n",
              "</table>\n",
              "<p>2 rows × 25 columns</p>\n",
              "</div>\n",
              "    <div class=\"colab-df-buttons\">\n",
              "\n",
              "  <div class=\"colab-df-container\">\n",
              "    <button class=\"colab-df-convert\" onclick=\"convertToInteractive('df-3d6ea32f-ca16-472f-a217-9d29bb95cf0f')\"\n",
              "            title=\"Convert this dataframe to an interactive table.\"\n",
              "            style=\"display:none;\">\n",
              "\n",
              "  <svg xmlns=\"http://www.w3.org/2000/svg\" height=\"24px\" viewBox=\"0 -960 960 960\">\n",
              "    <path d=\"M120-120v-720h720v720H120Zm60-500h600v-160H180v160Zm220 220h160v-160H400v160Zm0 220h160v-160H400v160ZM180-400h160v-160H180v160Zm440 0h160v-160H620v160ZM180-180h160v-160H180v160Zm440 0h160v-160H620v160Z\"/>\n",
              "  </svg>\n",
              "    </button>\n",
              "\n",
              "  <style>\n",
              "    .colab-df-container {\n",
              "      display:flex;\n",
              "      gap: 12px;\n",
              "    }\n",
              "\n",
              "    .colab-df-convert {\n",
              "      background-color: #E8F0FE;\n",
              "      border: none;\n",
              "      border-radius: 50%;\n",
              "      cursor: pointer;\n",
              "      display: none;\n",
              "      fill: #1967D2;\n",
              "      height: 32px;\n",
              "      padding: 0 0 0 0;\n",
              "      width: 32px;\n",
              "    }\n",
              "\n",
              "    .colab-df-convert:hover {\n",
              "      background-color: #E2EBFA;\n",
              "      box-shadow: 0px 1px 2px rgba(60, 64, 67, 0.3), 0px 1px 3px 1px rgba(60, 64, 67, 0.15);\n",
              "      fill: #174EA6;\n",
              "    }\n",
              "\n",
              "    .colab-df-buttons div {\n",
              "      margin-bottom: 4px;\n",
              "    }\n",
              "\n",
              "    [theme=dark] .colab-df-convert {\n",
              "      background-color: #3B4455;\n",
              "      fill: #D2E3FC;\n",
              "    }\n",
              "\n",
              "    [theme=dark] .colab-df-convert:hover {\n",
              "      background-color: #434B5C;\n",
              "      box-shadow: 0px 1px 3px 1px rgba(0, 0, 0, 0.15);\n",
              "      filter: drop-shadow(0px 1px 2px rgba(0, 0, 0, 0.3));\n",
              "      fill: #FFFFFF;\n",
              "    }\n",
              "  </style>\n",
              "\n",
              "    <script>\n",
              "      const buttonEl =\n",
              "        document.querySelector('#df-3d6ea32f-ca16-472f-a217-9d29bb95cf0f button.colab-df-convert');\n",
              "      buttonEl.style.display =\n",
              "        google.colab.kernel.accessAllowed ? 'block' : 'none';\n",
              "\n",
              "      async function convertToInteractive(key) {\n",
              "        const element = document.querySelector('#df-3d6ea32f-ca16-472f-a217-9d29bb95cf0f');\n",
              "        const dataTable =\n",
              "          await google.colab.kernel.invokeFunction('convertToInteractive',\n",
              "                                                    [key], {});\n",
              "        if (!dataTable) return;\n",
              "\n",
              "        const docLinkHtml = 'Like what you see? Visit the ' +\n",
              "          '<a target=\"_blank\" href=https://colab.research.google.com/notebooks/data_table.ipynb>data table notebook</a>'\n",
              "          + ' to learn more about interactive tables.';\n",
              "        element.innerHTML = '';\n",
              "        dataTable['output_type'] = 'display_data';\n",
              "        await google.colab.output.renderOutput(dataTable, element);\n",
              "        const docLink = document.createElement('div');\n",
              "        docLink.innerHTML = docLinkHtml;\n",
              "        element.appendChild(docLink);\n",
              "      }\n",
              "    </script>\n",
              "  </div>\n",
              "\n",
              "\n",
              "    <div id=\"df-159b995f-6238-4e20-918e-d85dfb144500\">\n",
              "      <button class=\"colab-df-quickchart\" onclick=\"quickchart('df-159b995f-6238-4e20-918e-d85dfb144500')\"\n",
              "                title=\"Suggest charts\"\n",
              "                style=\"display:none;\">\n",
              "\n",
              "<svg xmlns=\"http://www.w3.org/2000/svg\" height=\"24px\"viewBox=\"0 0 24 24\"\n",
              "     width=\"24px\">\n",
              "    <g>\n",
              "        <path d=\"M19 3H5c-1.1 0-2 .9-2 2v14c0 1.1.9 2 2 2h14c1.1 0 2-.9 2-2V5c0-1.1-.9-2-2-2zM9 17H7v-7h2v7zm4 0h-2V7h2v10zm4 0h-2v-4h2v4z\"/>\n",
              "    </g>\n",
              "</svg>\n",
              "      </button>\n",
              "\n",
              "<style>\n",
              "  .colab-df-quickchart {\n",
              "      --bg-color: #E8F0FE;\n",
              "      --fill-color: #1967D2;\n",
              "      --hover-bg-color: #E2EBFA;\n",
              "      --hover-fill-color: #174EA6;\n",
              "      --disabled-fill-color: #AAA;\n",
              "      --disabled-bg-color: #DDD;\n",
              "  }\n",
              "\n",
              "  [theme=dark] .colab-df-quickchart {\n",
              "      --bg-color: #3B4455;\n",
              "      --fill-color: #D2E3FC;\n",
              "      --hover-bg-color: #434B5C;\n",
              "      --hover-fill-color: #FFFFFF;\n",
              "      --disabled-bg-color: #3B4455;\n",
              "      --disabled-fill-color: #666;\n",
              "  }\n",
              "\n",
              "  .colab-df-quickchart {\n",
              "    background-color: var(--bg-color);\n",
              "    border: none;\n",
              "    border-radius: 50%;\n",
              "    cursor: pointer;\n",
              "    display: none;\n",
              "    fill: var(--fill-color);\n",
              "    height: 32px;\n",
              "    padding: 0;\n",
              "    width: 32px;\n",
              "  }\n",
              "\n",
              "  .colab-df-quickchart:hover {\n",
              "    background-color: var(--hover-bg-color);\n",
              "    box-shadow: 0 1px 2px rgba(60, 64, 67, 0.3), 0 1px 3px 1px rgba(60, 64, 67, 0.15);\n",
              "    fill: var(--button-hover-fill-color);\n",
              "  }\n",
              "\n",
              "  .colab-df-quickchart-complete:disabled,\n",
              "  .colab-df-quickchart-complete:disabled:hover {\n",
              "    background-color: var(--disabled-bg-color);\n",
              "    fill: var(--disabled-fill-color);\n",
              "    box-shadow: none;\n",
              "  }\n",
              "\n",
              "  .colab-df-spinner {\n",
              "    border: 2px solid var(--fill-color);\n",
              "    border-color: transparent;\n",
              "    border-bottom-color: var(--fill-color);\n",
              "    animation:\n",
              "      spin 1s steps(1) infinite;\n",
              "  }\n",
              "\n",
              "  @keyframes spin {\n",
              "    0% {\n",
              "      border-color: transparent;\n",
              "      border-bottom-color: var(--fill-color);\n",
              "      border-left-color: var(--fill-color);\n",
              "    }\n",
              "    20% {\n",
              "      border-color: transparent;\n",
              "      border-left-color: var(--fill-color);\n",
              "      border-top-color: var(--fill-color);\n",
              "    }\n",
              "    30% {\n",
              "      border-color: transparent;\n",
              "      border-left-color: var(--fill-color);\n",
              "      border-top-color: var(--fill-color);\n",
              "      border-right-color: var(--fill-color);\n",
              "    }\n",
              "    40% {\n",
              "      border-color: transparent;\n",
              "      border-right-color: var(--fill-color);\n",
              "      border-top-color: var(--fill-color);\n",
              "    }\n",
              "    60% {\n",
              "      border-color: transparent;\n",
              "      border-right-color: var(--fill-color);\n",
              "    }\n",
              "    80% {\n",
              "      border-color: transparent;\n",
              "      border-right-color: var(--fill-color);\n",
              "      border-bottom-color: var(--fill-color);\n",
              "    }\n",
              "    90% {\n",
              "      border-color: transparent;\n",
              "      border-bottom-color: var(--fill-color);\n",
              "    }\n",
              "  }\n",
              "</style>\n",
              "\n",
              "      <script>\n",
              "        async function quickchart(key) {\n",
              "          const quickchartButtonEl =\n",
              "            document.querySelector('#' + key + ' button');\n",
              "          quickchartButtonEl.disabled = true;  // To prevent multiple clicks.\n",
              "          quickchartButtonEl.classList.add('colab-df-spinner');\n",
              "          try {\n",
              "            const charts = await google.colab.kernel.invokeFunction(\n",
              "                'suggestCharts', [key], {});\n",
              "          } catch (error) {\n",
              "            console.error('Error during call to suggestCharts:', error);\n",
              "          }\n",
              "          quickchartButtonEl.classList.remove('colab-df-spinner');\n",
              "          quickchartButtonEl.classList.add('colab-df-quickchart-complete');\n",
              "        }\n",
              "        (() => {\n",
              "          let quickchartButtonEl =\n",
              "            document.querySelector('#df-159b995f-6238-4e20-918e-d85dfb144500 button');\n",
              "          quickchartButtonEl.style.display =\n",
              "            google.colab.kernel.accessAllowed ? 'block' : 'none';\n",
              "        })();\n",
              "      </script>\n",
              "    </div>\n",
              "    </div>\n",
              "  </div>\n"
            ],
            "application/vnd.google.colaboratory.intrinsic+json": {
              "type": "dataframe",
              "variable_name": "dataset"
            }
          },
          "metadata": {},
          "execution_count": 52
        }
      ]
    },
    {
      "cell_type": "code",
      "source": [
        "def encode_categorical_columns_notGAD7(df, encoding_dict):\n",
        "    \"\"\"\n",
        "    Encodes categorical columns with Russian text values to numerical values using a provided dictionary.\n",
        "\n",
        "    Args:\n",
        "        df: pandas DataFrame.\n",
        "        encoding_dict: Dictionary with column names as keys and mapping dictionaries as values.\n",
        "\n",
        "    Returns:\n",
        "        pandas DataFrame with encoded columns.\n",
        "    \"\"\"\n",
        "    for col, mapping in encoding_dict.items():\n",
        "        if col in df.columns:\n",
        "            df[col] = df[col].replace(mapping)\n",
        "        else:\n",
        "            print(f\"Warning: Column '{col}' not found in DataFrame.\")\n",
        "    return df\n",
        "\n",
        "# Dictionary with encoding mappings for different columns\n",
        "encoding_dict = {\n",
        "    'Taking_Medication': {'Нет': 0, 'Да': 1},\n",
        "    'Negative_Event_Last_Year': {'Нет': 0, 'Да': 1},\n",
        "    'Outdoor_Walks_Freq': {\n",
        "        'Никогда': 0,\n",
        "        'Не более 3 раз в месяц': 1,\n",
        "        'Раз в неделю': 2,\n",
        "        'Несколько раз в неделю': 3,\n",
        "        'Почти каждый день': 4\n",
        "    },\n",
        "    'Social_Satisfaction': {\n",
        "        'Совершенно не удовлетворён(а)': 0,\n",
        "        'Скорее не удовлетворён(а)': 1,\n",
        "        'Нейтрально': 2,\n",
        "        'Скорее удовлетворён(а)': 3,\n",
        "        'Полностью удовлетворён(а)': 4\n",
        "    },\n",
        "    'Work_Study_Satisfaction': {\n",
        "        'Совершенно не удовлетворён(а)': 0,\n",
        "        'Скорее не удовлетворён(а)': 1,\n",
        "        'Нейтрально': 2,\n",
        "        'Скорее удовлетворён(а)': 3,\n",
        "        'Полностью удовлетворён(а)': 4\n",
        "    },\n",
        "    'Circadian_Rhythm': {\n",
        "        'Жаворонок — мне удобнее вставать рано и ложиться рано': 0,\n",
        "        'Нейтрально — нет яркого предпочтения': 1,\n",
        "        'Сова — мне удобнее ложиться поздно и вставать поздно': 2\n",
        "    },\n",
        "    'Family_Friends_Support': {\n",
        "        'Никогда': 0,\n",
        "        'Редко': 1,\n",
        "        'Иногда': 2,\n",
        "        'Часто': 3,\n",
        "        'Всегда': 4\n",
        "    },\n",
        "    'Alcohol_Freq': {\n",
        "        'Никогда':0,\n",
        "        'Реже одного раза в месяц':1,\n",
        "        '1-3 раза в месяц':2,'1-2 раза в неделю':3,\n",
        "        '3-4 раза в неделю':4,'Почти ежедневно':5\n",
        "    },\n",
        "    'Smoking_Status' : {\n",
        "        'Не курю':0,\n",
        "        'Иногда курю':1,\n",
        "        'Ежедневно курю':2\n",
        "    },\n",
        "    'Therapist_Visits_Last_Month':\n",
        "    {\n",
        "        '0': 0,\n",
        "        '1': 1,\n",
        "        '2': 2,\n",
        "        '3 и больше':3\n",
        "    },\n",
        "    'Gender': {\n",
        "        'Мужской': 0,\n",
        "        'Предпочитаю не говорить': 0.5,\n",
        "        'Женский': 1\n",
        "    }\n",
        "}\n",
        "\n",
        "# Apply the encoding function\n",
        "dataset = encode_categorical_columns_notGAD7(dataset, encoding_dict)\n",
        "\n",
        "dataset.info()\n"
      ],
      "metadata": {
        "colab": {
          "base_uri": "https://localhost:8080/"
        },
        "id": "N0VUvJ6bRltf",
        "outputId": "dc7f7597-e162-4f0f-bde3-8351fbaa5c46"
      },
      "id": "N0VUvJ6bRltf",
      "execution_count": 60,
      "outputs": [
        {
          "output_type": "stream",
          "name": "stdout",
          "text": [
            "<class 'pandas.core.frame.DataFrame'>\n",
            "RangeIndex: 439 entries, 0 to 438\n",
            "Data columns (total 26 columns):\n",
            " #   Column                       Non-Null Count  Dtype  \n",
            "---  ------                       --------------  -----  \n",
            " 0   Timestamp                    439 non-null    object \n",
            " 1   Subjective_Anxiety           439 non-null    int64  \n",
            " 2   Nervous_Freq                 439 non-null    int64  \n",
            " 3   Worry_Control_Freq           439 non-null    int64  \n",
            " 4   Excessive_Worry_Freq         439 non-null    int64  \n",
            " 5   Relax_Difficulty_Freq        439 non-null    int64  \n",
            " 6   Restlessness_Freq            439 non-null    int64  \n",
            " 7   Irritability_Freq            439 non-null    int64  \n",
            " 8   Fear_Bad_Happening_Freq      439 non-null    int64  \n",
            " 9   Sleep_Hours                  439 non-null    float64\n",
            " 10  Sport_Hours_Weekly           439 non-null    float64\n",
            " 11  Alcohol_Freq                 439 non-null    int64  \n",
            " 12  Smoking_Status               439 non-null    int64  \n",
            " 13  Diet_Quality                 439 non-null    int64  \n",
            " 14  Therapist_Visits_Last_Month  439 non-null    int64  \n",
            " 15  Taking_Medication            439 non-null    int64  \n",
            " 16  Outdoor_Walks_Freq           439 non-null    int64  \n",
            " 17  Social_Satisfaction          439 non-null    int64  \n",
            " 18  Work_Study_Satisfaction      439 non-null    int64  \n",
            " 19  Circadian_Rhythm             439 non-null    int64  \n",
            " 20  Family_Friends_Support       439 non-null    int64  \n",
            " 21  Phone_Hours                  439 non-null    float64\n",
            " 22  Negative_Event_Last_Year     439 non-null    int64  \n",
            " 23  Gender                       439 non-null    float64\n",
            " 24  Age                          439 non-null    float64\n",
            " 25  Anxiety_Level                439 non-null    int64  \n",
            "dtypes: float64(5), int64(20), object(1)\n",
            "memory usage: 89.3+ KB\n"
          ]
        },
        {
          "output_type": "stream",
          "name": "stderr",
          "text": [
            "/tmp/ipython-input-1655294544.py:14: FutureWarning: Downcasting behavior in `replace` is deprecated and will be removed in a future version. To retain the old behavior, explicitly call `result.infer_objects(copy=False)`. To opt-in to the future behavior, set `pd.set_option('future.no_silent_downcasting', True)`\n",
            "  df[col] = df[col].replace(mapping)\n"
          ]
        }
      ]
    },
    {
      "cell_type": "markdown",
      "source": [
        "## GAD7 integration"
      ],
      "metadata": {
        "id": "6Qwu9tKRQqvE"
      },
      "id": "6Qwu9tKRQqvE"
    },
    {
      "cell_type": "markdown",
      "source": [
        "We used GAD7 in our form to get stress SCORE. Lets get it"
      ],
      "metadata": {
        "id": "b37h9777Nz_8"
      },
      "id": "b37h9777Nz_8"
    },
    {
      "cell_type": "code",
      "source": [
        "dataset['Anxiety_Level'] = dataset[['Nervous_Freq',\n",
        "                                    'Worry_Control_Freq',\n",
        "                                    'Excessive_Worry_Freq',\n",
        "                                    'Relax_Difficulty_Freq',\n",
        "                                    'Restlessness_Freq',\n",
        "                                    'Irritability_Freq',\n",
        "                                    'Fear_Bad_Happening_Freq']].sum(axis=1)"
      ],
      "metadata": {
        "id": "Prm429p5MfH7"
      },
      "id": "Prm429p5MfH7",
      "execution_count": 54,
      "outputs": []
    },
    {
      "cell_type": "code",
      "source": [
        "sns.kdeplot(dataset['Anxiety_Level'])"
      ],
      "metadata": {
        "colab": {
          "base_uri": "https://localhost:8080/",
          "height": 467
        },
        "id": "aUwaoR2NOCBC",
        "outputId": "ea515025-914b-467a-c176-b6ba8c5fffbc"
      },
      "id": "aUwaoR2NOCBC",
      "execution_count": 55,
      "outputs": [
        {
          "output_type": "execute_result",
          "data": {
            "text/plain": [
              "<Axes: xlabel='Anxiety_Level', ylabel='Density'>"
            ]
          },
          "metadata": {},
          "execution_count": 55
        },
        {
          "output_type": "display_data",
          "data": {
            "text/plain": [
              "<Figure size 640x480 with 1 Axes>"
            ],
            "image/png": "[encoded data removed]"
          },
          "metadata": {}
        }
      ]
    },
    {
      "cell_type": "markdown",
      "source": [
        "## Create train-test split"
      ],
      "metadata": {
        "id": "TuiYZqsQRUn2"
      },
      "id": "TuiYZqsQRUn2"
    },
    {
      "cell_type": "code",
      "source": [],
      "metadata": {
        "id": "YkKnWkxdRY_K"
      },
      "id": "YkKnWkxdRY_K",
      "execution_count": 55,
      "outputs": []
    },
    {
      "cell_type": "markdown",
      "source": [
        "## Train classic categorization model (Random Forest)"
      ],
      "metadata": {
        "id": "yKe2qjdtRNYO"
      },
      "id": "yKe2qjdtRNYO"
    },
    {
      "cell_type": "code",
      "source": [],
      "metadata": {
        "id": "fx2fRonURUSE"
      },
      "id": "fx2fRonURUSE",
      "execution_count": 55,
      "outputs": []
    }
  ],
  "metadata": {
    "language_info": {
      "name": "python"
    },
    "colab": {
      "provenance": [],
      "include_colab_link": true
    },
    "kernelspec": {
      "name": "python3",
      "display_name": "Python 3"
    }
  },
  "nbformat": 4,
  "nbformat_minor": 5
}